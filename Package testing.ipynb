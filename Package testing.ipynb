{
 "cells": [
  {
   "cell_type": "code",
   "execution_count": 1,
   "metadata": {},
   "outputs": [
    {
     "name": "stdout",
     "output_type": "stream",
     "text": [
      "/Users/ankur.kumar/Desktop/Personal/Projects\n"
     ]
    }
   ],
   "source": [
    "cd ../../"
   ]
  },
  {
   "cell_type": "code",
   "execution_count": 2,
   "metadata": {},
   "outputs": [
    {
     "name": "stdout",
     "output_type": "stream",
     "text": [
      "\u001b[1m\u001b[36mResearch\u001b[m\u001b[m/             \u001b[1m\u001b[36mgit projects\u001b[m\u001b[m/         \u001b[1m\u001b[36mopen source projects\u001b[m\u001b[m/\r\n"
     ]
    }
   ],
   "source": [
    "ls"
   ]
  },
  {
   "cell_type": "code",
   "execution_count": 3,
   "metadata": {},
   "outputs": [],
   "source": [
    "from nlp_preprocessing.text import clean"
   ]
  },
  {
   "cell_type": "code",
   "execution_count": 7,
   "metadata": {
    "scrolled": true
   },
   "outputs": [
    {
     "name": "stdout",
     "output_type": "stream",
     "text": [
      "########## Step - Lowering everything:\n",
      "########## Step - Normalize chars and dots:\n",
      "########## Step - Remove hrefs:\n",
      "########## Step - Control Chars:\n",
      "########## Step - Duplicated Chars:\n",
      "Total Words : 4\n",
      "########## Step - Remove underscore:\n",
      "Total Words : 4\n",
      "[\"hi i am's nakdur\"]\n",
      "########## Step - Spam chars repetition:\n",
      "Total Words : 4\n",
      "{}\n",
      "########## Step - Brackets and quotes:\n",
      "########## Step - Break long words:\n",
      "########## Step - Break long words:\n",
      "########## Step - Remove ending underscore:\n",
      "Total Words : 4\n",
      "########## Step - Remove starting underscore:\n",
      "Total Words : 4\n",
      "########## Step - End word punctuations:\n",
      "########## Step - Start word punctuations:\n",
      "########## Step - Contractions:\n",
      "Total Words : 4\n",
      "########## Step - Remove \"s:\n",
      "Total Words : 4\n",
      "am's --- am\n",
      "########## Step - Isolate numbers:\n",
      "Total Words : 4\n",
      "Total Words : 4\n",
      "########## Step - L33T (with vocab check):\n",
      "Total Words : 4\n",
      "########## Step - Open Holded words:\n",
      "########## Step - Multiple form:\n",
      "Total Words : 4\n"
     ]
    },
    {
     "data": {
      "text/plain": [
       "['hi i am nakdur']"
      ]
     },
     "execution_count": 7,
     "metadata": {},
     "output_type": "execute_result"
    }
   ],
   "source": [
    "clean.clean_v1([\"Hi I am's nakdur\"])"
   ]
  },
  {
   "cell_type": "code",
   "execution_count": 7,
   "metadata": {},
   "outputs": [
    {
     "name": "stdout",
     "output_type": "stream",
     "text": [
      "absl-py==0.8.1\r\n",
      "appnope==0.1.0\r\n",
      "astor==0.8.0\r\n",
      "attrs==19.3.0\r\n",
      "backcall==0.1.0\r\n",
      "bleach==3.1.0\r\n",
      "blis==0.4.1\r\n",
      "boto==2.49.0\r\n",
      "boto3==1.10.50\r\n",
      "botocore==1.13.50\r\n",
      "cachetools==3.1.1\r\n",
      "catalogue==1.0.0\r\n",
      "certifi==2019.9.11\r\n",
      "cffi==1.14.0\r\n",
      "chardet==3.0.4\r\n",
      "Click==7.0\r\n",
      "cryptography==2.8\r\n",
      "cycler==0.10.0\r\n",
      "cymem==2.0.3\r\n",
      "decorator==4.4.1\r\n",
      "deepdish==0.3.6\r\n",
      "defusedxml==0.6.0\r\n",
      "dill==0.3.1.1\r\n",
      "docutils==0.15.2\r\n",
      "emoji==0.5.4\r\n",
      "en-core-web-sm==2.2.5\r\n",
      "entrypoints==0.3\r\n",
      "et-xmlfile==1.0.1\r\n",
      "filelock==3.0.12\r\n",
      "future==0.18.2\r\n",
      "fuzzywuzzy==0.18.0\r\n",
      "gast==0.2.2\r\n",
      "gensim==3.8.1\r\n",
      "google-auth==1.7.1\r\n",
      "google-auth-oauthlib==0.4.1\r\n",
      "google-pasta==0.1.8\r\n",
      "googleapis-common-protos==1.6.0\r\n",
      "grpcio==1.25.0\r\n",
      "h5py==2.10.0\r\n",
      "idna==2.8\r\n",
      "importlib-metadata==0.23\r\n",
      "ipykernel==5.1.3\r\n",
      "ipython==7.9.0\r\n",
      "ipython-genutils==0.2.0\r\n",
      "ipywidgets==7.5.1\r\n",
      "jdcal==1.4.1\r\n",
      "jedi==0.15.1\r\n",
      "Jinja2==2.10.3\r\n",
      "jmespath==0.9.4\r\n",
      "joblib==0.14.1\r\n",
      "json5==0.8.5\r\n",
      "jsonschema==3.2.0\r\n",
      "jupyter-client==5.3.4\r\n",
      "jupyter-contrib-core==0.3.3\r\n",
      "jupyter-contrib-nbextensions==0.5.1\r\n",
      "jupyter-core==4.6.1\r\n",
      "jupyter-highlight-selected-word==0.2.0\r\n",
      "jupyter-latex-envs==1.4.6\r\n",
      "jupyter-nbextensions-configurator==0.4.1\r\n",
      "jupyterlab==1.2.4\r\n",
      "jupyterlab-server==1.0.6\r\n",
      "Keras==2.3.1\r\n",
      "Keras-Applications==1.0.8\r\n",
      "keras-bert==0.80.0\r\n",
      "keras-embed-sim==0.7.0\r\n",
      "keras-layer-normalization==0.14.0\r\n",
      "keras-multi-head==0.22.0\r\n",
      "keras-pos-embd==0.11.0\r\n",
      "keras-position-wise-feed-forward==0.6.0\r\n",
      "Keras-Preprocessing==1.1.0\r\n",
      "keras-self-attention==0.41.0\r\n",
      "keras-transformer==0.31.0\r\n",
      "keyring==21.1.0\r\n",
      "kiwisolver==1.1.0\r\n",
      "knockknock==0.1.7\r\n",
      "lxml==4.4.2\r\n",
      "Markdown==3.1.1\r\n",
      "MarkupSafe==1.1.1\r\n",
      "matplotlib==3.1.2\r\n",
      "matrix-client==0.3.2\r\n",
      "mistune==0.8.4\r\n",
      "more-itertools==7.2.0\r\n",
      "murmurhash==1.0.2\r\n",
      "nbconvert==5.6.1\r\n",
      "nbformat==4.4.0\r\n",
      "nlp-preprocessing==0.1.1\r\n",
      "notebook==6.0.2\r\n",
      "numexpr==2.7.1\r\n",
      "numpy==1.17.4\r\n",
      "oauthlib==3.1.0\r\n",
      "openpyxl==3.0.3\r\n",
      "opt-einsum==3.1.0\r\n",
      "ortools==7.4.7247\r\n",
      "pandas==0.25.3\r\n",
      "pandocfilters==1.4.2\r\n",
      "parso==0.5.1\r\n",
      "pexpect==4.7.0\r\n",
      "pickleshare==0.7.5\r\n",
      "pkginfo==1.5.0.1\r\n",
      "plac==1.1.3\r\n",
      "preshed==3.0.2\r\n",
      "prometheus-client==0.7.1\r\n",
      "promise==2.3\r\n",
      "prompt-toolkit==2.0.10\r\n",
      "protobuf==3.10.0\r\n",
      "ptyprocess==0.6.0\r\n",
      "pyasn1==0.4.8\r\n",
      "pyasn1-modules==0.2.7\r\n",
      "pycparser==2.19\r\n",
      "Pygments==2.4.2\r\n",
      "PyJWT==1.7.1\r\n",
      "pyparsing==2.4.6\r\n",
      "pyrsistent==0.15.5\r\n",
      "python-dateutil==2.8.1\r\n",
      "python-telegram-bot==12.4.1\r\n",
      "pytz==2019.3\r\n",
      "PyYAML==5.2\r\n",
      "pyzmq==18.1.1\r\n",
      "readme-renderer==24.0\r\n",
      "regex==2020.1.8\r\n",
      "requests==2.22.0\r\n",
      "requests-oauthlib==1.3.0\r\n",
      "requests-toolbelt==0.9.1\r\n",
      "rope==0.16.0\r\n",
      "rsa==4.0\r\n",
      "s3transfer==0.2.1\r\n",
      "sacremoses==0.0.35\r\n",
      "scikit-learn==0.22\r\n",
      "scipy==1.4.1\r\n",
      "Send2Trash==1.5.0\r\n",
      "sentencepiece==0.1.85\r\n",
      "six==1.13.0\r\n",
      "sklearn==0.0\r\n",
      "smart-open==1.9.0\r\n",
      "spacy==2.2.3\r\n",
      "srsly==1.0.1\r\n",
      "tables==3.6.1\r\n",
      "tensorboard==2.0.1\r\n",
      "tensorflow==2.0.0\r\n",
      "tensorflow-addons==0.6.0\r\n",
      "tensorflow-datasets==1.3.2\r\n",
      "tensorflow-estimator==2.0.1\r\n",
      "tensorflow-hub==0.7.0\r\n",
      "tensorflow-metadata==0.21.0\r\n",
      "termcolor==1.1.0\r\n",
      "terminado==0.8.3\r\n",
      "testpath==0.4.4\r\n",
      "thinc==7.3.1\r\n",
      "tokenizers==0.5.2\r\n",
      "tornado==6.0.3\r\n",
      "tqdm==4.41.1\r\n",
      "traitlets==4.3.3\r\n",
      "transformers==2.6.0\r\n",
      "transformers-finetuning==0.3.1\r\n",
      "twilio==6.35.4\r\n",
      "twine==3.1.1\r\n",
      "urllib3==1.25.7\r\n",
      "wasabi==0.6.0\r\n",
      "wcwidth==0.1.7\r\n",
      "webencodings==0.5.1\r\n",
      "Werkzeug==0.16.0\r\n",
      "widgetsnbextension==3.5.1\r\n",
      "wrapt==1.11.2\r\n",
      "xlrd==1.2.0\r\n",
      "yagmail==0.11.224\r\n",
      "zipp==0.6.0\r\n"
     ]
    }
   ],
   "source": [
    "!pip freeze"
   ]
  },
  {
   "cell_type": "code",
   "execution_count": null,
   "metadata": {},
   "outputs": [],
   "source": []
  }
 ],
 "metadata": {
  "kernelspec": {
   "display_name": "Python 3.7.5 64-bit ('tf2_env': venv)",
   "language": "python",
   "name": "python37564bittf2envvenv9baad5f63bf544adb456767f347f0830"
  },
  "language_info": {
   "codemirror_mode": {
    "name": "ipython",
    "version": 3
   },
   "file_extension": ".py",
   "mimetype": "text/x-python",
   "name": "python",
   "nbconvert_exporter": "python",
   "pygments_lexer": "ipython3",
   "version": "3.7.5"
  }
 },
 "nbformat": 4,
 "nbformat_minor": 2
}
