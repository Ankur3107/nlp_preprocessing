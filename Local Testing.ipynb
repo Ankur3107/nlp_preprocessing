{
 "cells": [
  {
   "cell_type": "code",
   "execution_count": 1,
   "metadata": {},
   "outputs": [],
   "source": [
    "from nlp_preprocessing.text import clean"
   ]
  },
  {
   "cell_type": "code",
   "execution_count": 2,
   "metadata": {},
   "outputs": [],
   "source": [
    "import importlib"
   ]
  },
  {
   "cell_type": "code",
   "execution_count": 3,
   "metadata": {},
   "outputs": [
    {
     "data": {
      "text/plain": [
       "<module 'nlp_preprocessing.text.clean' from '/Users/ankur.kumar/Desktop/Personal/Projects/git projects/nlp_preprocessing/nlp_preprocessing/text/clean.py'>"
      ]
     },
     "execution_count": 3,
     "metadata": {},
     "output_type": "execute_result"
    }
   ],
   "source": [
    "importlib.reload(clean)"
   ]
  },
  {
   "cell_type": "code",
   "execution_count": 4,
   "metadata": {
    "scrolled": false
   },
   "outputs": [
    {
     "name": "stdout",
     "output_type": "stream",
     "text": [
      "########## Step - Lowering everything:\n",
      "########## Step - Normalize chars and dots:\n",
      "########## Step - Remove hrefs:\n",
      "########## Step - Control Chars:\n",
      "########## Step - Duplicated Chars:\n",
      "Total Words : 4\n",
      "########## Step - Remove underscore:\n",
      "Total Words : 4\n",
      "[\"hi i am's nakdur\"]\n",
      "########## Step - Spam chars repetition:\n",
      "Total Words : 4\n",
      "{}\n",
      "########## Step - Brackets and quotes:\n",
      "########## Step - Break long words:\n",
      "########## Step - Break long words:\n",
      "########## Step - Remove ending underscore:\n",
      "Total Words : 4\n",
      "########## Step - Remove starting underscore:\n",
      "Total Words : 4\n",
      "########## Step - End word punctuations:\n",
      "########## Step - Start word punctuations:\n",
      "########## Step - Contractions:\n",
      "Total Words : 4\n",
      "########## Step - Remove \"s:\n",
      "Total Words : 4\n",
      "am's --- am\n",
      "########## Step - Isolate numbers:\n",
      "Total Words : 4\n",
      "Total Words : 4\n",
      "########## Step - L33T (with vocab check):\n",
      "Total Words : 4\n",
      "########## Step - Open Holded words:\n",
      "########## Step - Multiple form:\n",
      "Total Words : 4\n"
     ]
    },
    {
     "data": {
      "text/plain": [
       "['hi i am nakdur']"
      ]
     },
     "execution_count": 4,
     "metadata": {},
     "output_type": "execute_result"
    }
   ],
   "source": [
    "clean.clean_v1([\"Hi I am's nakdur\"])"
   ]
  },
  {
   "cell_type": "code",
   "execution_count": 6,
   "metadata": {},
   "outputs": [],
   "source": [
    "from nlp_preprocessing.dataset import dataset as ds"
   ]
  },
  {
   "cell_type": "code",
   "execution_count": 7,
   "metadata": {},
   "outputs": [],
   "source": [
    "import pandas as pd"
   ]
  },
  {
   "cell_type": "code",
   "execution_count": 8,
   "metadata": {},
   "outputs": [
    {
     "data": {
      "text/html": [
       "<div>\n",
       "<style scoped>\n",
       "    .dataframe tbody tr th:only-of-type {\n",
       "        vertical-align: middle;\n",
       "    }\n",
       "\n",
       "    .dataframe tbody tr th {\n",
       "        vertical-align: top;\n",
       "    }\n",
       "\n",
       "    .dataframe thead th {\n",
       "        text-align: right;\n",
       "    }\n",
       "</style>\n",
       "<table border=\"1\" class=\"dataframe\">\n",
       "  <thead>\n",
       "    <tr style=\"text-align: right;\">\n",
       "      <th></th>\n",
       "      <th>text</th>\n",
       "      <th>label</th>\n",
       "      <th>aspect</th>\n",
       "    </tr>\n",
       "  </thead>\n",
       "  <tbody>\n",
       "    <tr>\n",
       "      <th>0</th>\n",
       "      <td>I am Test 1</td>\n",
       "      <td>A</td>\n",
       "      <td>C</td>\n",
       "    </tr>\n",
       "    <tr>\n",
       "      <th>1</th>\n",
       "      <td>I am Test 2</td>\n",
       "      <td>B</td>\n",
       "      <td>D</td>\n",
       "    </tr>\n",
       "    <tr>\n",
       "      <th>2</th>\n",
       "      <td>I am Test 1</td>\n",
       "      <td>A</td>\n",
       "      <td>C</td>\n",
       "    </tr>\n",
       "    <tr>\n",
       "      <th>3</th>\n",
       "      <td>I am Test 2</td>\n",
       "      <td>B</td>\n",
       "      <td>D</td>\n",
       "    </tr>\n",
       "    <tr>\n",
       "      <th>4</th>\n",
       "      <td>I am Test 1</td>\n",
       "      <td>A</td>\n",
       "      <td>C</td>\n",
       "    </tr>\n",
       "    <tr>\n",
       "      <th>5</th>\n",
       "      <td>I am Test 2</td>\n",
       "      <td>B</td>\n",
       "      <td>D</td>\n",
       "    </tr>\n",
       "    <tr>\n",
       "      <th>6</th>\n",
       "      <td>I am Test 1</td>\n",
       "      <td>A</td>\n",
       "      <td>C</td>\n",
       "    </tr>\n",
       "    <tr>\n",
       "      <th>7</th>\n",
       "      <td>I am Test 2</td>\n",
       "      <td>B</td>\n",
       "      <td>D</td>\n",
       "    </tr>\n",
       "    <tr>\n",
       "      <th>8</th>\n",
       "      <td>I am Test 1</td>\n",
       "      <td>A</td>\n",
       "      <td>C</td>\n",
       "    </tr>\n",
       "    <tr>\n",
       "      <th>9</th>\n",
       "      <td>I am Test 2</td>\n",
       "      <td>B</td>\n",
       "      <td>D</td>\n",
       "    </tr>\n",
       "  </tbody>\n",
       "</table>\n",
       "</div>"
      ],
      "text/plain": [
       "          text label aspect\n",
       "0  I am Test 1     A      C\n",
       "1  I am Test 2     B      D\n",
       "2  I am Test 1     A      C\n",
       "3  I am Test 2     B      D\n",
       "4  I am Test 1     A      C\n",
       "5  I am Test 2     B      D\n",
       "6  I am Test 1     A      C\n",
       "7  I am Test 2     B      D\n",
       "8  I am Test 1     A      C\n",
       "9  I am Test 2     B      D"
      ]
     },
     "execution_count": 8,
     "metadata": {},
     "output_type": "execute_result"
    }
   ],
   "source": [
    "text = ['I am Test 1','I am Test 2']\n",
    "label = ['A','B']\n",
    "aspect = ['C','D']\n",
    "data = pd.DataFrame({'text':text*5,'label':label*5,'aspect':aspect*5})\n",
    "data"
   ]
  },
  {
   "cell_type": "code",
   "execution_count": 9,
   "metadata": {},
   "outputs": [],
   "source": [
    "data_config = {\n",
    "                'data_class':'multi-label',\n",
    "                'x_columns':['text'],\n",
    "                'y_columns':['label','aspect'],\n",
    "                'one_hot_encoded_columns':[],\n",
    "                'label_encoded_columns':['label','aspect'],\n",
    "                'data':data,\n",
    "                'split_ratio':0.1\n",
    "              }"
   ]
  },
  {
   "cell_type": "code",
   "execution_count": null,
   "metadata": {},
   "outputs": [],
   "source": [
    "dataset = ds.Dataset(data_config)"
   ]
  }
 ],
 "metadata": {
  "kernelspec": {
   "display_name": "Python 3.7.5 64-bit ('tf2_env': venv)",
   "language": "python",
   "name": "python37564bittf2envvenv9baad5f63bf544adb456767f347f0830"
  },
  "language_info": {
   "codemirror_mode": {
    "name": "ipython",
    "version": 3
   },
   "file_extension": ".py",
   "mimetype": "text/x-python",
   "name": "python",
   "nbconvert_exporter": "python",
   "pygments_lexer": "ipython3",
   "version": "3.7.5"
  }
 },
 "nbformat": 4,
 "nbformat_minor": 2
}
