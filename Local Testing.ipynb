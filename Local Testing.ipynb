{
 "cells": [
  {
   "cell_type": "code",
   "execution_count": 6,
   "metadata": {},
   "outputs": [],
   "source": [
    "from nlp_preprocessing.text import clean"
   ]
  },
  {
   "cell_type": "code",
   "execution_count": 8,
   "metadata": {},
   "outputs": [],
   "source": [
    "import importlib"
   ]
  },
  {
   "cell_type": "code",
   "execution_count": 11,
   "metadata": {},
   "outputs": [
    {
     "data": {
      "text/plain": [
       "<module 'nlp_preprocessing.text.clean' from '/Users/ankur.kumar/Desktop/Personal/Projects/git projects/nlp-preprocessing/nlp_preprocessing/text/clean.py'>"
      ]
     },
     "execution_count": 11,
     "metadata": {},
     "output_type": "execute_result"
    }
   ],
   "source": [
    "importlib.reload(clean)"
   ]
  },
  {
   "cell_type": "code",
   "execution_count": 7,
   "metadata": {
    "scrolled": false
   },
   "outputs": [
    {
     "name": "stdout",
     "output_type": "stream",
     "text": [
      "########## Step - Lowering everything:\n",
      "########## Step - Normalize chars and dots:\n",
      "########## Step - Remove hrefs:\n",
      "########## Step - Control Chars:\n",
      "########## Step - Duplicated Chars:\n",
      "Total Words : 4\n",
      "########## Step - Remove underscore:\n",
      "Total Words : 4\n",
      "[\"hi i am's nakdur\"]\n",
      "########## Step - Spam chars repetition:\n",
      "Total Words : 4\n",
      "{}\n",
      "########## Step - Brackets and quotes:\n",
      "########## Step - Break long words:\n",
      "########## Step - Break long words:\n",
      "########## Step - Remove ending underscore:\n",
      "Total Words : 4\n",
      "########## Step - Remove starting underscore:\n",
      "Total Words : 4\n",
      "########## Step - End word punctuations:\n",
      "########## Step - Start word punctuations:\n",
      "########## Step - Contractions:\n",
      "Total Words : 4\n",
      "########## Step - Remove \"s:\n",
      "Total Words : 4\n",
      "am's --- am\n",
      "########## Step - Isolate numbers:\n",
      "Total Words : 4\n",
      "Total Words : 4\n",
      "########## Step - L33T (with vocab check):\n",
      "Total Words : 4\n",
      "########## Step - Open Holded words:\n",
      "########## Step - Multiple form:\n",
      "Total Words : 4\n"
     ]
    },
    {
     "data": {
      "text/plain": [
       "['hi i am nakdur']"
      ]
     },
     "execution_count": 7,
     "metadata": {},
     "output_type": "execute_result"
    }
   ],
   "source": [
    "clean.clean_v1([\"Hi I am's nakdur\"])"
   ]
  },
  {
   "cell_type": "code",
   "execution_count": null,
   "metadata": {},
   "outputs": [],
   "source": []
  }
 ],
 "metadata": {
  "kernelspec": {
   "display_name": "Python 3.7.5 64-bit ('tf2_env': venv)",
   "language": "python",
   "name": "python37564bittf2envvenv9baad5f63bf544adb456767f347f0830"
  },
  "language_info": {
   "codemirror_mode": {
    "name": "ipython",
    "version": 3
   },
   "file_extension": ".py",
   "mimetype": "text/x-python",
   "name": "python",
   "nbconvert_exporter": "python",
   "pygments_lexer": "ipython3",
   "version": "3.7.5"
  }
 },
 "nbformat": 4,
 "nbformat_minor": 2
}
